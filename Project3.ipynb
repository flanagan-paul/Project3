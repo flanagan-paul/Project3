{
 "cells": [
  {
   "cell_type": "markdown",
   "id": "a46b466b",
   "metadata": {},
   "source": [
    "### Paul Flanagan\n",
    "### 16-Nov-2022\n",
    "\n",
    "# Project 3: Analyzing Box Office Data"
   ]
  },
  {
   "cell_type": "markdown",
   "id": "e76201fd",
   "metadata": {},
   "source": [
    "For my project, I have decided to collect and analyze the monthly and yearly box office data provided on Box Office Mojo from the years of 2010 to 2019. I selected this time frame because it is within the modern superhero movie era of film (spearheaded by Marvel Studios) and excludes the years of the COVID-19 pandemic and their anomalous effect on box office statistics.\n",
    "\n",
    "### Import Statements"
   ]
  },
  {
   "cell_type": "code",
   "execution_count": 1,
   "id": "f42b7e9e",
   "metadata": {},
   "outputs": [],
   "source": [
    "import requests\n",
    "from bs4 import BeautifulSoup as bs\n",
    "import pandas as pd\n",
    "import seaborn as sns\n",
    "import matplotlib.pyplot as plt"
   ]
  },
  {
   "cell_type": "markdown",
   "id": "fcc9ba10",
   "metadata": {},
   "source": [
    "### Web scraping functions"
   ]
  },
  {
   "cell_type": "code",
   "execution_count": 2,
   "id": "3728cd7d",
   "metadata": {},
   "outputs": [],
   "source": [
    "def get_web_page(url):\n",
    "    response = requests.get(url)\n",
    "    status = response.status_code\n",
    "    if status == 200:\n",
    "        return response.text\n",
    "    else:\n",
    "        print(f\"Oops! Received status code {status}\")\n",
    "        return \"\"\n",
    "\n",
    "def get_movies(soup):\n",
    "    month_list = []\n",
    "    stats_table = soup.find(id=\"table\")\n",
    "    for row in stats_table.find_all(\"tr\"):\n",
    "        data = row.find_all(\"td\")\n",
    "        if len(data)>0:\n",
    "            year = soup.find('title').text[0:4]\n",
    "            month = data[0].text.strip()\n",
    "            monthlyGross = int(data[1].text.strip().replace(\"$\",\"\").replace(\",\",\"\"))\n",
    "            percentOfYear = float(data[2].text.strip().replace(\"%\",\"\"))\n",
    "            releases = int(data[3].text.strip())\n",
    "            averageReleaseGross = int(data[4].text.strip().replace(\"$\",\"\").replace(\",\",\"\"))\n",
    "            bestTitle = data[5].text.strip()\n",
    "            bestGross = int(data[9].text.strip().replace(\"$\",\"\").replace(\",\",\"\"))\n",
    "            percentOfMonthlyGross = float(data[10].text.strip().replace(\"%\",\"\"))\n",
    "            month_list.append({'year':year, 'month':month, 'monthly_gross':monthlyGross, '%_of_year':percentOfYear, \n",
    "                               'releases':releases, 'average':averageReleaseGross, '#1_release':bestTitle, \n",
    "                               '#1_gross':bestGross, '%_of_total':percentOfMonthlyGross\n",
    "                              })\n",
    "    return(month_list)"
   ]
  },
  {
   "cell_type": "markdown",
   "id": "62eef2ee",
   "metadata": {},
   "source": [
    "### Gathering Data"
   ]
  },
  {
   "cell_type": "code",
   "execution_count": 3,
   "id": "5147f7f4",
   "metadata": {},
   "outputs": [
    {
     "name": "stderr",
     "output_type": "stream",
     "text": [
      "C:\\Users\\Paul\\AppData\\Local\\Temp\\ipykernel_1908\\3202999755.py:12: FutureWarning: The frame.append method is deprecated and will be removed from pandas in a future version. Use pandas.concat instead.\n",
      "  month_list_df = month_list_df.append(pd.DataFrame(get_movies(soup)),ignore_index=True)\n",
      "C:\\Users\\Paul\\AppData\\Local\\Temp\\ipykernel_1908\\3202999755.py:12: FutureWarning: The frame.append method is deprecated and will be removed from pandas in a future version. Use pandas.concat instead.\n",
      "  month_list_df = month_list_df.append(pd.DataFrame(get_movies(soup)),ignore_index=True)\n",
      "C:\\Users\\Paul\\AppData\\Local\\Temp\\ipykernel_1908\\3202999755.py:12: FutureWarning: The frame.append method is deprecated and will be removed from pandas in a future version. Use pandas.concat instead.\n",
      "  month_list_df = month_list_df.append(pd.DataFrame(get_movies(soup)),ignore_index=True)\n",
      "C:\\Users\\Paul\\AppData\\Local\\Temp\\ipykernel_1908\\3202999755.py:12: FutureWarning: The frame.append method is deprecated and will be removed from pandas in a future version. Use pandas.concat instead.\n",
      "  month_list_df = month_list_df.append(pd.DataFrame(get_movies(soup)),ignore_index=True)\n",
      "C:\\Users\\Paul\\AppData\\Local\\Temp\\ipykernel_1908\\3202999755.py:12: FutureWarning: The frame.append method is deprecated and will be removed from pandas in a future version. Use pandas.concat instead.\n",
      "  month_list_df = month_list_df.append(pd.DataFrame(get_movies(soup)),ignore_index=True)\n",
      "C:\\Users\\Paul\\AppData\\Local\\Temp\\ipykernel_1908\\3202999755.py:12: FutureWarning: The frame.append method is deprecated and will be removed from pandas in a future version. Use pandas.concat instead.\n",
      "  month_list_df = month_list_df.append(pd.DataFrame(get_movies(soup)),ignore_index=True)\n",
      "C:\\Users\\Paul\\AppData\\Local\\Temp\\ipykernel_1908\\3202999755.py:12: FutureWarning: The frame.append method is deprecated and will be removed from pandas in a future version. Use pandas.concat instead.\n",
      "  month_list_df = month_list_df.append(pd.DataFrame(get_movies(soup)),ignore_index=True)\n",
      "C:\\Users\\Paul\\AppData\\Local\\Temp\\ipykernel_1908\\3202999755.py:12: FutureWarning: The frame.append method is deprecated and will be removed from pandas in a future version. Use pandas.concat instead.\n",
      "  month_list_df = month_list_df.append(pd.DataFrame(get_movies(soup)),ignore_index=True)\n",
      "C:\\Users\\Paul\\AppData\\Local\\Temp\\ipykernel_1908\\3202999755.py:12: FutureWarning: The frame.append method is deprecated and will be removed from pandas in a future version. Use pandas.concat instead.\n",
      "  month_list_df = month_list_df.append(pd.DataFrame(get_movies(soup)),ignore_index=True)\n",
      "C:\\Users\\Paul\\AppData\\Local\\Temp\\ipykernel_1908\\3202999755.py:12: FutureWarning: The frame.append method is deprecated and will be removed from pandas in a future version. Use pandas.concat instead.\n",
      "  month_list_df = month_list_df.append(pd.DataFrame(get_movies(soup)),ignore_index=True)\n"
     ]
    },
    {
     "data": {
      "text/html": [
       "<div>\n",
       "<style scoped>\n",
       "    .dataframe tbody tr th:only-of-type {\n",
       "        vertical-align: middle;\n",
       "    }\n",
       "\n",
       "    .dataframe tbody tr th {\n",
       "        vertical-align: top;\n",
       "    }\n",
       "\n",
       "    .dataframe thead th {\n",
       "        text-align: right;\n",
       "    }\n",
       "</style>\n",
       "<table border=\"1\" class=\"dataframe\">\n",
       "  <thead>\n",
       "    <tr style=\"text-align: right;\">\n",
       "      <th></th>\n",
       "      <th>year</th>\n",
       "      <th>month</th>\n",
       "      <th>monthly_gross</th>\n",
       "      <th>%_of_year</th>\n",
       "      <th>releases</th>\n",
       "      <th>average</th>\n",
       "      <th>#1_release</th>\n",
       "      <th>#1_gross</th>\n",
       "      <th>%_of_total</th>\n",
       "    </tr>\n",
       "  </thead>\n",
       "  <tbody>\n",
       "    <tr>\n",
       "      <th>0</th>\n",
       "      <td>2010</td>\n",
       "      <td>December</td>\n",
       "      <td>882442237</td>\n",
       "      <td>8.3</td>\n",
       "      <td>179</td>\n",
       "      <td>4929844</td>\n",
       "      <td>TRON: Legacy</td>\n",
       "      <td>117540071</td>\n",
       "      <td>13.3</td>\n",
       "    </tr>\n",
       "    <tr>\n",
       "      <th>1</th>\n",
       "      <td>2010</td>\n",
       "      <td>November</td>\n",
       "      <td>901238665</td>\n",
       "      <td>8.5</td>\n",
       "      <td>183</td>\n",
       "      <td>4924801</td>\n",
       "      <td>Harry Potter and the Deathly Hallows: Part 1</td>\n",
       "      <td>223673772</td>\n",
       "      <td>24.8</td>\n",
       "    </tr>\n",
       "    <tr>\n",
       "      <th>2</th>\n",
       "      <td>2010</td>\n",
       "      <td>October</td>\n",
       "      <td>687745062</td>\n",
       "      <td>6.5</td>\n",
       "      <td>207</td>\n",
       "      <td>3322439</td>\n",
       "      <td>Jackass 3D</td>\n",
       "      <td>101657558</td>\n",
       "      <td>14.8</td>\n",
       "    </tr>\n",
       "    <tr>\n",
       "      <th>3</th>\n",
       "      <td>2010</td>\n",
       "      <td>September</td>\n",
       "      <td>546161985</td>\n",
       "      <td>5.2</td>\n",
       "      <td>199</td>\n",
       "      <td>2744532</td>\n",
       "      <td>The Town</td>\n",
       "      <td>54307420</td>\n",
       "      <td>9.9</td>\n",
       "    </tr>\n",
       "    <tr>\n",
       "      <th>4</th>\n",
       "      <td>2010</td>\n",
       "      <td>August</td>\n",
       "      <td>876222471</td>\n",
       "      <td>8.3</td>\n",
       "      <td>178</td>\n",
       "      <td>4922598</td>\n",
       "      <td>The Other Guys</td>\n",
       "      <td>100383645</td>\n",
       "      <td>11.5</td>\n",
       "    </tr>\n",
       "    <tr>\n",
       "      <th>...</th>\n",
       "      <td>...</td>\n",
       "      <td>...</td>\n",
       "      <td>...</td>\n",
       "      <td>...</td>\n",
       "      <td>...</td>\n",
       "      <td>...</td>\n",
       "      <td>...</td>\n",
       "      <td>...</td>\n",
       "      <td>...</td>\n",
       "    </tr>\n",
       "    <tr>\n",
       "      <th>115</th>\n",
       "      <td>2019</td>\n",
       "      <td>May</td>\n",
       "      <td>1077667188</td>\n",
       "      <td>9.5</td>\n",
       "      <td>225</td>\n",
       "      <td>4789631</td>\n",
       "      <td>Avengers: Endgame</td>\n",
       "      <td>382663001</td>\n",
       "      <td>35.5</td>\n",
       "    </tr>\n",
       "    <tr>\n",
       "      <th>116</th>\n",
       "      <td>2019</td>\n",
       "      <td>April</td>\n",
       "      <td>1034983338</td>\n",
       "      <td>9.1</td>\n",
       "      <td>220</td>\n",
       "      <td>4704469</td>\n",
       "      <td>Avengers: Endgame</td>\n",
       "      <td>427099795</td>\n",
       "      <td>41.3</td>\n",
       "    </tr>\n",
       "    <tr>\n",
       "      <th>117</th>\n",
       "      <td>2019</td>\n",
       "      <td>March</td>\n",
       "      <td>962715490</td>\n",
       "      <td>8.5</td>\n",
       "      <td>192</td>\n",
       "      <td>5014143</td>\n",
       "      <td>Captain Marvel</td>\n",
       "      <td>353970079</td>\n",
       "      <td>36.8</td>\n",
       "    </tr>\n",
       "    <tr>\n",
       "      <th>118</th>\n",
       "      <td>2019</td>\n",
       "      <td>February</td>\n",
       "      <td>624462229</td>\n",
       "      <td>5.5</td>\n",
       "      <td>147</td>\n",
       "      <td>4248042</td>\n",
       "      <td>The Lego Movie 2: The Second Part</td>\n",
       "      <td>85060040</td>\n",
       "      <td>13.6</td>\n",
       "    </tr>\n",
       "    <tr>\n",
       "      <th>119</th>\n",
       "      <td>2019</td>\n",
       "      <td>January</td>\n",
       "      <td>812849718</td>\n",
       "      <td>7.2</td>\n",
       "      <td>161</td>\n",
       "      <td>5048756</td>\n",
       "      <td>Aquaman</td>\n",
       "      <td>119682416</td>\n",
       "      <td>14.7</td>\n",
       "    </tr>\n",
       "  </tbody>\n",
       "</table>\n",
       "<p>120 rows × 9 columns</p>\n",
       "</div>"
      ],
      "text/plain": [
       "     year      month monthly_gross  %_of_year releases  average  \\\n",
       "0    2010   December     882442237        8.3      179  4929844   \n",
       "1    2010   November     901238665        8.5      183  4924801   \n",
       "2    2010    October     687745062        6.5      207  3322439   \n",
       "3    2010  September     546161985        5.2      199  2744532   \n",
       "4    2010     August     876222471        8.3      178  4922598   \n",
       "..    ...        ...           ...        ...      ...      ...   \n",
       "115  2019        May    1077667188        9.5      225  4789631   \n",
       "116  2019      April    1034983338        9.1      220  4704469   \n",
       "117  2019      March     962715490        8.5      192  5014143   \n",
       "118  2019   February     624462229        5.5      147  4248042   \n",
       "119  2019    January     812849718        7.2      161  5048756   \n",
       "\n",
       "                                       #1_release   #1_gross  %_of_total  \n",
       "0                                    TRON: Legacy  117540071        13.3  \n",
       "1    Harry Potter and the Deathly Hallows: Part 1  223673772        24.8  \n",
       "2                                      Jackass 3D  101657558        14.8  \n",
       "3                                        The Town   54307420         9.9  \n",
       "4                                  The Other Guys  100383645        11.5  \n",
       "..                                            ...        ...         ...  \n",
       "115                             Avengers: Endgame  382663001        35.5  \n",
       "116                             Avengers: Endgame  427099795        41.3  \n",
       "117                                Captain Marvel  353970079        36.8  \n",
       "118             The Lego Movie 2: The Second Part   85060040        13.6  \n",
       "119                                       Aquaman  119682416        14.7  \n",
       "\n",
       "[120 rows x 9 columns]"
      ]
     },
     "execution_count": 3,
     "metadata": {},
     "output_type": "execute_result"
    }
   ],
   "source": [
    "url_base = \"https://www.boxofficemojo.com/month/by-year/\"\n",
    "year_url_list = []\n",
    "for i in range(2010, 2020):\n",
    "    year_url_list.append(url_base + str(i))\n",
    "    \n",
    "month_list_df = pd.DataFrame(columns = ['year','month','monthly_gross','%_of_year','releases','average','#1_release',\n",
    "                                        '#1_gross','%_of_total'])\n",
    "\n",
    "for year_url in year_url_list:\n",
    "    page = get_web_page(year_url)\n",
    "    soup = bs(page)\n",
    "    month_list_df = month_list_df.append(pd.DataFrame(get_movies(soup)),ignore_index=True)\n",
    "month_list_df"
   ]
  },
  {
   "cell_type": "markdown",
   "id": "7bedaf4d",
   "metadata": {},
   "source": [
    "### Question 1: Which months are the most and least profitable?\n",
    "We will compare the average monthly gross for each month across the ten year time frame."
   ]
  },
  {
   "cell_type": "code",
   "execution_count": 4,
   "id": "3c2c6b06",
   "metadata": {},
   "outputs": [
    {
     "name": "stdout",
     "output_type": "stream",
     "text": [
      "month\n",
      "July         1.262610e+09\n",
      "June         1.132425e+09\n",
      "December     1.071205e+09\n",
      "May          1.008555e+09\n",
      "November     9.757735e+08\n",
      "January      9.134151e+08\n",
      "March        8.781092e+08\n",
      "August       8.741436e+08\n",
      "April        8.104652e+08\n",
      "February     7.522189e+08\n",
      "October      6.893124e+08\n",
      "September    6.081762e+08\n",
      "Name: monthly_gross, dtype: float64\n"
     ]
    }
   ],
   "source": [
    "print(month_list_df.groupby('month')['monthly_gross'].mean().sort_values(ascending=False))"
   ]
  },
  {
   "cell_type": "markdown",
   "id": "4cab33bc",
   "metadata": {},
   "source": [
    "We can make the data easier to read by putting it into a bar chart."
   ]
  },
  {
   "cell_type": "code",
   "execution_count": 17,
   "id": "74f2e159",
   "metadata": {},
   "outputs": [
    {
     "data": {
      "text/plain": [
       "<BarContainer object of 12 artists>"
      ]
     },
     "execution_count": 17,
     "metadata": {},
     "output_type": "execute_result"
    },
    {
     "data": {
      "image/png": "[encoded data removed]",
      "text/plain": [
       "<Figure size 640x480 with 1 Axes>"
      ]
     },
     "metadata": {},
     "output_type": "display_data"
    }
   ],
   "source": [
    "monthly_gross = month_list_df.groupby('month')['monthly_gross'].mean().reindex(['January','February','March','April','May','June','July','August','September','October','November','December'])\n",
    "sns.set_style(\"darkgrid\")\n",
    "cols = ['g' if (x == max(monthly_gross)) else 'coral' if (x == min(monthly_gross)) else 'skyblue' for x in monthly_gross]\n",
    "plt.title(\"Most Profitable Month on Average is July\")\n",
    "plt.xlabel('Month')\n",
    "plt.ylabel('Monthly Movie Gross, in $1M')\n",
    "plt.bar(['Jan','Feb','Mar','Apr','May','Jun','Jul','Aug','Sep','Oct','Nov','Dec'], monthly_gross, color = cols)"
   ]
  },
  {
   "cell_type": "markdown",
   "id": "33a9d579",
   "metadata": {},
   "source": [
    "#### Answer: \n",
    "The most profitable month is July, and the least profitable month is September."
   ]
  },
  {
   "cell_type": "markdown",
   "id": "db4b1aec",
   "metadata": {},
   "source": [
    "### Question 2: How has industry performance changed over the selected time frame?\n",
    "We will compare the total revenue for each year."
   ]
  },
  {
   "cell_type": "code",
   "execution_count": 18,
   "id": "e325c71d",
   "metadata": {},
   "outputs": [
    {
     "name": "stdout",
     "output_type": "stream",
     "text": [
      "year\n",
      "2010    10585386940\n",
      "2011    10155695359\n",
      "2012    10843641372\n",
      "2013    10955524800\n",
      "2014    10368861849\n",
      "2015    11148852953\n",
      "2016    11375225455\n",
      "2017    11075387520\n",
      "2018    11892160011\n",
      "2019    11363361617\n",
      "Name: monthly_gross, dtype: object\n"
     ]
    }
   ],
   "source": [
    "print(month_list_df.groupby('year')['monthly_gross'].sum())"
   ]
  },
  {
   "cell_type": "markdown",
   "id": "babd1585",
   "metadata": {},
   "source": [
    "A plot will make the data easier to interpret."
   ]
  },
  {
   "cell_type": "code",
   "execution_count": 19,
   "id": "49d90286",
   "metadata": {},
   "outputs": [
    {
     "data": {
      "text/plain": [
       "[<matplotlib.lines.Line2D at 0x1730c01b9d0>]"
      ]
     },
     "execution_count": 19,
     "metadata": {},
     "output_type": "execute_result"
    },
    {
     "data": {
      "image/png": "[encoded data removed]",
      "text/plain": [
       "<Figure size 640x480 with 1 Axes>"
      ]
     },
     "metadata": {},
     "output_type": "display_data"
    }
   ],
   "source": [
    "sns.set_style(\"whitegrid\")\n",
    "plt.title(\"Movie Industry Trended Up Around 12% Over 10 Years\")\n",
    "plt.xlabel('Year')\n",
    "plt.ylabel('Total Movie Gross, in $10B')\n",
    "plt.plot(month_list_df.groupby('year')['monthly_gross'].sum(), color = 'g')"
   ]
  },
  {
   "cell_type": "markdown",
   "id": "26aa8c2f",
   "metadata": {},
   "source": [
    "#### Answer:\n",
    "Yearly gross has increased steadily through moderate fluctuation, resulting in roughly twelve percent growth over ten years."
   ]
  },
  {
   "cell_type": "markdown",
   "id": "ad8c53e5",
   "metadata": {},
   "source": [
    "### Question 3: How does the performance of the top selling movie of each month compare to the rest of that month's movies?\n",
    "We can answer this by looking at the percentage of monthly gross attributable to the top performing movie of each month."
   ]
  },
  {
   "cell_type": "code",
   "execution_count": 20,
   "id": "7a24da52",
   "metadata": {},
   "outputs": [
    {
     "name": "stdout",
     "output_type": "stream",
     "text": [
      "month\n",
      "May          34.16\n",
      "December     26.73\n",
      "April        25.88\n",
      "March        25.38\n",
      "June         24.44\n",
      "November     24.17\n",
      "July         21.78\n",
      "February     21.14\n",
      "October      20.62\n",
      "August       17.31\n",
      "September    16.44\n",
      "January      16.25\n",
      "Name: %_of_total, dtype: float64\n"
     ]
    }
   ],
   "source": [
    "print(month_list_df.groupby('month')['%_of_total'].mean().sort_values(ascending=False))"
   ]
  },
  {
   "cell_type": "markdown",
   "id": "deee95ec",
   "metadata": {},
   "source": [
    "#### Answer:\n",
    "The top performer is most likely to greatly outshine its competitors in the months of May, December, and April, whereas the months of January, September, and August are least likely to have a standout smash hit."
   ]
  },
  {
   "cell_type": "markdown",
   "id": "284c9658",
   "metadata": {},
   "source": [
    "### Question 4: Which year featured the most theatrical releases?\n",
    "This can be determined by totalling the number of releases for each of the ten years."
   ]
  },
  {
   "cell_type": "code",
   "execution_count": 21,
   "id": "0065df80",
   "metadata": {},
   "outputs": [
    {
     "name": "stdout",
     "output_type": "stream",
     "text": [
      "year\n",
      "2018    2538\n",
      "2014    2404\n",
      "2012    2372\n",
      "2016    2366\n",
      "2013    2342\n",
      "2019    2315\n",
      "2011    2299\n",
      "2017    2280\n",
      "2015    2224\n",
      "2010    2133\n",
      "Name: releases, dtype: object\n"
     ]
    }
   ],
   "source": [
    "print(month_list_df.groupby('year')['releases'].sum().sort_values(ascending=False))"
   ]
  },
  {
   "cell_type": "markdown",
   "id": "65bb82fe",
   "metadata": {},
   "source": [
    "#### Answer:\n",
    "The year with the most theatrical releases was 2018, and the year with the least was 2010."
   ]
  }
 ],
 "metadata": {
  "kernelspec": {
   "display_name": "Python 3 (ipykernel)",
   "language": "python",
   "name": "python3"
  },
  "language_info": {
   "codemirror_mode": {
    "name": "ipython",
    "version": 3
   },
   "file_extension": ".py",
   "mimetype": "text/x-python",
   "name": "python",
   "nbconvert_exporter": "python",
   "pygments_lexer": "ipython3",
   "version": "3.9.13"
  }
 },
 "nbformat": 4,
 "nbformat_minor": 5
}
